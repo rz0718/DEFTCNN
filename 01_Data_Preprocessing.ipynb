{
  "nbformat": 4,
  "nbformat_minor": 0,
  "metadata": {
    "colab": {
      "name": "01 Data Preprocessing.ipynb",
      "provenance": [],
      "collapsed_sections": []
    },
    "kernelspec": {
      "name": "python3",
      "display_name": "Python 3"
    }
  },
  "cells": [
    {
      "cell_type": "markdown",
      "metadata": {
        "id": "7y925ek1olmV",
        "colab_type": "text"
      },
      "source": [
        "# Data Preprocessing"
      ]
    },
    {
      "cell_type": "code",
      "metadata": {
        "id": "UryqLBaQyD_h",
        "colab_type": "code",
        "colab": {
          "base_uri": "https://localhost:8080/",
          "height": 122
        },
        "outputId": "37c02897-e6d6-4d71-bd8f-31cb9cd27b60"
      },
      "source": [
        "# Since the code is written in Google Colab, the data drive should be mounted firstly.\n",
        "from google.colab import drive\n",
        "drive.mount('/content/drive')"
      ],
      "execution_count": null,
      "outputs": [
        {
          "output_type": "stream",
          "text": [
            "Go to this URL in a browser: https://accounts.google.com/o/oauth2/auth?client_id=947318989803-6bn6qk8qdgf4n4g3pfee6491hc0brc4i.apps.googleusercontent.com&redirect_uri=urn%3aietf%3awg%3aoauth%3a2.0%3aoob&response_type=code&scope=email%20https%3a%2f%2fwww.googleapis.com%2fauth%2fdocs.test%20https%3a%2f%2fwww.googleapis.com%2fauth%2fdrive%20https%3a%2f%2fwww.googleapis.com%2fauth%2fdrive.photos.readonly%20https%3a%2f%2fwww.googleapis.com%2fauth%2fpeopleapi.readonly\n",
            "\n",
            "Enter your authorization code:\n",
            "··········\n",
            "Mounted at /content/drive\n"
          ],
          "name": "stdout"
        }
      ]
    },
    {
      "cell_type": "code",
      "metadata": {
        "id": "uCGRrpqBiHbe",
        "colab_type": "code",
        "colab": {}
      },
      "source": [
        "import pandas as pd\n",
        "import matplotlib.pyplot as plt"
      ],
      "execution_count": null,
      "outputs": []
    },
    {
      "cell_type": "markdown",
      "metadata": {
        "id": "n2XofYyZ58Wl",
        "colab_type": "text"
      },
      "source": [
        "Here, we adopt CWRU dataset. You can find the raw data in the [website](https://csegroups.case.edu/bearingdatacenter/pages/welcome-case-western-reserve-university-bearing-data-center-website). Therefore, we can have four class datasets: \n",
        "1. Normal\n",
        "2. Inner Race\n",
        "3. Ball (centered)\n",
        "4. Outer Race"
      ]
    },
    {
      "cell_type": "code",
      "metadata": {
        "id": "yJ2XZ3xk1Ozp",
        "colab_type": "code",
        "colab": {}
      },
      "source": [
        "basefn = \"/content/drive/My Drive/data/data_cwru/\"\n",
        "data_paths = {\n",
        "\"normal\": [\"97.mat\", \"98.mat\", \"99.mat\", \"100.mat\"],\n",
        "\"inner\":  [\"105.mat\", \"106.mat\", \"107.mat\", \"108.mat\"],\n",
        "\"ball\":   [\"118.mat\", \"119.mat\", \"120.mat\", \"121.mat\"],\n",
        "\"outer\":  [\"130.mat\", \"131.mat\", \"132.mat\", \"133.mat\"]\n",
        "} "
      ],
      "execution_count": null,
      "outputs": []
    },
    {
      "cell_type": "markdown",
      "metadata": {
        "id": "slgSlfXBoP7F",
        "colab_type": "text"
      },
      "source": [
        "### Sampling data for augmentation"
      ]
    },
    {
      "cell_type": "code",
      "metadata": {
        "id": "wFECrN0Uyesj",
        "colab_type": "code",
        "colab": {}
      },
      "source": [
        "num_points = 120000\n",
        "sample_len = 5120\n",
        "stride = 128\n",
        "from scipy.io import loadmat\n",
        "data = []\n",
        "for labelidx, label in enumerate([\"normal\", \"inner\", \"ball\", \"outer\"]):\n",
        "  fnames = data_paths[label]\n",
        "  for file_name in fnames:\n",
        "    x = loadmat(basefn+label+\"/\"+file_name)\n",
        "    used_key = [key for key in x.keys() if \"DE_time\" in key][0]\n",
        "    time_data = x[used_key]\n",
        "    time_data = time_data[:num_points]\n",
        "    #from nested list to list\n",
        "    time_data =  [ele[0] for ele in time_data]\n",
        "    # sampling data for augumentation\n",
        "    for count in range(0, num_points-sample_len, stride):\n",
        "      sub_data = [labelidx] + time_data[count:count+sample_len]\n",
        "      sub_data = \" \".join([str(f) for f in sub_data])\n",
        "      data.append(sub_data)"
      ],
      "execution_count": null,
      "outputs": []
    },
    {
      "cell_type": "markdown",
      "metadata": {
        "id": "1Vd0JPlRekQM",
        "colab_type": "text"
      },
      "source": [
        "### Data Saving"
      ]
    },
    {
      "cell_type": "code",
      "metadata": {
        "id": "YkgHL9p8tAXj",
        "colab_type": "code",
        "colab": {}
      },
      "source": [
        "df_data = pd.DataFrame({\"data\":data})"
      ],
      "execution_count": null,
      "outputs": []
    },
    {
      "cell_type": "code",
      "metadata": {
        "id": "4KgFir8yzx-Y",
        "colab_type": "code",
        "colab": {}
      },
      "source": [
        "df_data.to_csv(\"/content/drive/My Drive/data/data_cwru/cwru_data.txt\", index=None)"
      ],
      "execution_count": null,
      "outputs": []
    },
    {
      "cell_type": "markdown",
      "metadata": {
        "id": "23JGWlqnn2fe",
        "colab_type": "text"
      },
      "source": [
        "### Check the sampled data"
      ]
    },
    {
      "cell_type": "code",
      "metadata": {
        "id": "msKxuxKgKRVi",
        "colab_type": "code",
        "colab": {
          "base_uri": "https://localhost:8080/",
          "height": 282
        },
        "outputId": "a35e7e0b-cd47-49d7-e10b-5889dfc44a20"
      },
      "source": [
        "data_seq = data[102].split(' ')[1:]\n",
        "data_seq = [float(ele) for ele in data_seq]\n",
        "plt.plot(data_seq[:12000])"
      ],
      "execution_count": null,
      "outputs": [
        {
          "output_type": "execute_result",
          "data": {
            "text/plain": [
              "[<matplotlib.lines.Line2D at 0x7fba44bd3198>]"
            ]
          },
          "metadata": {
            "tags": []
          },
          "execution_count": 14
        },
        {
          "output_type": "display_data",
          "data": {
            "image/png": "[encoded data removed]",
            "text/plain": [
              "<Figure size 432x288 with 1 Axes>"
            ]
          },
          "metadata": {
            "tags": [],
            "needs_background": "light"
          }
        }
      ]
    }
  ]
}