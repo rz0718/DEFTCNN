{
  "nbformat": 4,
  "nbformat_minor": 0,
  "metadata": {
    "colab": {
      "name": "02 Feature Enginnering.ipynb",
      "provenance": [],
      "collapsed_sections": []
    },
    "kernelspec": {
      "name": "python3",
      "display_name": "Python 3"
    }
  },
  "cells": [
    {
      "cell_type": "markdown",
      "metadata": {
        "id": "iVsWMdbApAqf",
        "colab_type": "text"
      },
      "source": [
        "# Feature Enginnering\n",
        "\n",
        "Based on time series data, extract some time-domain, frequency-domain and time-frequency domain features.  "
      ]
    },
    {
      "cell_type": "code",
      "metadata": {
        "id": "gMXUFJ3a0Rhc",
        "colab_type": "code",
        "colab": {
          "base_uri": "https://localhost:8080/",
          "height": 122
        },
        "outputId": "391700a4-0e1e-42f1-dafd-1be40ae1832d"
      },
      "source": [
        "from google.colab import drive\n",
        "drive.mount('/content/drive')"
      ],
      "execution_count": null,
      "outputs": [
        {
          "output_type": "stream",
          "text": [
            "Go to this URL in a browser: https://accounts.google.com/o/oauth2/auth?client_id=947318989803-6bn6qk8qdgf4n4g3pfee6491hc0brc4i.apps.googleusercontent.com&redirect_uri=urn%3aietf%3awg%3aoauth%3a2.0%3aoob&response_type=code&scope=email%20https%3a%2f%2fwww.googleapis.com%2fauth%2fdocs.test%20https%3a%2f%2fwww.googleapis.com%2fauth%2fdrive%20https%3a%2f%2fwww.googleapis.com%2fauth%2fdrive.photos.readonly%20https%3a%2f%2fwww.googleapis.com%2fauth%2fpeopleapi.readonly\n",
            "\n",
            "Enter your authorization code:\n",
            "··········\n",
            "Mounted at /content/drive\n"
          ],
          "name": "stdout"
        }
      ]
    },
    {
      "cell_type": "markdown",
      "metadata": {
        "id": "3Z_NodaypXgp",
        "colab_type": "text"
      },
      "source": [
        "### Single feature extraction function"
      ]
    },
    {
      "cell_type": "code",
      "metadata": {
        "id": "fdknNsvju5zQ",
        "colab_type": "code",
        "colab": {}
      },
      "source": [
        "import numpy as np\n",
        "import scipy.stats as sts\n",
        "from pywt import WaveletPacket\n",
        "\n",
        "# time-domain\n",
        "def rms_fea(a):\n",
        "\treturn np.sqrt(np.mean(np.square(a)))\n",
        " \n",
        "def pp_fea(a):\n",
        "\treturn np.max(a)-np.min(a)\n",
        " \n",
        "def skew_fea(a):\n",
        "\treturn sts.skew(a)\n",
        "\n",
        "# frequency-domain\n",
        "def spectral_kurt(a):\n",
        "\tN= a.shape[0]\n",
        "\tmag = np.abs(np.fft.fft(a))\n",
        "\tmag\t= mag[1:int(N/2)]*2.00/N\n",
        "\treturn sts.kurtosis(mag)\n",
        "\n",
        "def spectral_skw(a):\n",
        "\tN= a.shape[0]\n",
        "\tmag = np.abs(np.fft.fft(a))\n",
        "\tmag\t= mag[1:int(N/2)]*2.00/N\n",
        "\treturn sts.skew(mag)\n",
        "\n",
        "def spectral_pow(a):\n",
        "\tN= a.shape[0]\n",
        "\tmag = np.abs(np.fft.fft(a))\n",
        "\tmag\t= mag[1:int(N/2)]*2.00/N\n",
        "\treturn np.mean(np.power(mag, 3))\n",
        "\n",
        "\n",
        "#time-frequency domain\n",
        "def wavedb1_fea(a):\n",
        "\twp = WaveletPacket(a,'db1', maxlevel=8)\n",
        "\tnodes = wp.get_level(8, \"freq\")\n",
        "\treturn np.linalg.norm(np.array([n.data for n in nodes]), 2)\n",
        "\n",
        "def wavedb2_fea(a):\n",
        "\twp = WaveletPacket(a,'db2', maxlevel=8)\n",
        "\tnodes = wp.get_level(8, \"freq\")\n",
        "\treturn np.linalg.norm(np.array([n.data for n in nodes]), 2)\n",
        " \n",
        "def wavedb3_fea(a):\n",
        "\twp = WaveletPacket(a,'db3', maxlevel=8)\n",
        "\tnodes = wp.get_level(8, \"freq\")\n",
        "\treturn np.linalg.norm(np.array([n.data for n in nodes]), 2)"
      ],
      "execution_count": null,
      "outputs": []
    },
    {
      "cell_type": "markdown",
      "metadata": {
        "id": "xQg5aiG2pfCn",
        "colab_type": "text"
      },
      "source": [
        "### Wrap Up the above functions\n",
        "\n",
        "\n",
        "\n"
      ]
    },
    {
      "cell_type": "code",
      "metadata": {
        "id": "xKpU6JbtwSSV",
        "colab_type": "code",
        "colab": {}
      },
      "source": [
        "def extract_fea(data_slice):\n",
        "\t# input: time_len -> num_stat\n",
        "  data_fea = []\n",
        "  data_fea.append(rms_fea(data_slice))\n",
        "  data_fea.append(pp_fea(data_slice))\n",
        "  data_fea.append(skew_fea(data_slice))\n",
        "  data_fea.append(spectral_kurt(data_slice))\n",
        "  data_fea.append(spectral_skw(data_slice))\n",
        "  data_fea.append(spectral_pow(data_slice))\n",
        "  data_fea.append(wavedb1_fea(data_slice))\n",
        "  data_fea.append(wavedb2_fea(data_slice))\n",
        "  data_fea.append(wavedb3_fea(data_slice))\n",
        "  num_stat = len(data_fea)\n",
        "  data_fea = np.array(data_fea)\n",
        "  return data_fea.reshape((1,num_stat))"
      ],
      "execution_count": null,
      "outputs": []
    },
    {
      "cell_type": "markdown",
      "metadata": {
        "id": "K4CLjCqPqOBZ",
        "colab_type": "text"
      },
      "source": [
        "### Apply the feature extraction function on time windows of the time series data"
      ]
    },
    {
      "cell_type": "code",
      "metadata": {
        "id": "fh2YNgbvxoNx",
        "colab_type": "code",
        "colab": {}
      },
      "source": [
        "import pandas as pd\n",
        "import h5py\n",
        "df_data = pd.read_csv(\"/content/drive/My Drive/data/data_cwru/cwru_data.txt\")"
      ],
      "execution_count": null,
      "outputs": []
    },
    {
      "cell_type": "code",
      "metadata": {
        "id": "LiZlvRs18ywx",
        "colab_type": "code",
        "colab": {}
      },
      "source": [
        "labels = []\n",
        "features = []\n",
        "sub_len = 512\n",
        "for idx in range(len(df_data)):\n",
        "  raw_data = df_data.iloc[idx].data.strip()\n",
        "  labels.append(raw_data.split(\" \")[0])\n",
        "  raw_data = np.array([float(ele) for ele in raw_data.split(\" \")[1:]])\n",
        "  feature = []\n",
        "  for sub_idx in range(0,len(raw_data), sub_len):\n",
        "    feature.append(extract_fea(raw_data[sub_idx:sub_idx+sub_len]))\n",
        "  features.append(feature)"
      ],
      "execution_count": null,
      "outputs": []
    },
    {
      "cell_type": "markdown",
      "metadata": {
        "id": "dUvVDPwzqKRd",
        "colab_type": "text"
      },
      "source": [
        "### Save the data\n",
        "\n",
        "The final input features will be a tensor with three dimensions."
      ]
    },
    {
      "cell_type": "code",
      "metadata": {
        "id": "uCPzKg0aDqvx",
        "colab_type": "code",
        "colab": {}
      },
      "source": [
        "features = np.array(features)\n",
        "labels   = np.array(labels)\n",
        "h5f = h5py.File(\"/content/drive/My Drive/data/data_cwru/datax_series.h5\", \"w\")\n",
        "h5f.create_dataset(\"data\", data=features)\n",
        "h5f.close()"
      ],
      "execution_count": null,
      "outputs": []
    },
    {
      "cell_type": "code",
      "metadata": {
        "id": "zk_L1plH1l3l",
        "colab_type": "code",
        "colab": {}
      },
      "source": [
        "h5f = h5py.File(\"/content/drive/My Drive/data/data_cwru/datay_series.h5\", \"w\")\n",
        "h5f.create_dataset(\"label\", data=labels)\n",
        "h5f.close()"
      ],
      "execution_count": null,
      "outputs": []
    }
  ]
}